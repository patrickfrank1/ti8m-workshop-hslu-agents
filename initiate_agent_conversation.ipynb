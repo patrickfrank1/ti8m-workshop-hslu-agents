{
 "cells": [
  {
   "cell_type": "markdown",
   "metadata": {},
   "source": [
    "# Initiate a converation between a sales representative agent and a test customer agent\n",
    "\n",
    "You will initiate a conversation that will play out on your screen in real time. You can then judge the quality of the sales representative agent.\n",
    "\n",
    "First provide your API key in the notebook cell below and set the conversation length. Then execute the cells below to start a conversation between two agents."
   ]
  },
  {
   "cell_type": "code",
   "execution_count": 1,
   "metadata": {},
   "outputs": [],
   "source": [
    "from helper import display_input_parameters\n",
    "from agent_runner import AgentRunner"
   ]
  },
  {
   "cell_type": "code",
   "execution_count": 6,
   "metadata": {},
   "outputs": [
    {
     "data": {
      "application/vnd.jupyter.widget-view+json": {
       "model_id": "5ea6ba069b1743488a4d86ec0a705173",
       "version_major": 2,
       "version_minor": 0
      },
      "text/plain": [
       "Textarea(value='', description='OpenAI API Key:', layout=Layout(height='100px', width='500px'), placeholder='s…"
      ]
     },
     "metadata": {},
     "output_type": "display_data"
    },
    {
     "data": {
      "application/vnd.jupyter.widget-view+json": {
       "model_id": "b29247321e3144238c49fa5f0588817d",
       "version_major": 2,
       "version_minor": 0
      },
      "text/plain": [
       "Dropdown(description='Beispiel:', index=1, options=('sales-customer', 'teacher-student'), value='teacher-stude…"
      ]
     },
     "metadata": {},
     "output_type": "display_data"
    },
    {
     "data": {
      "application/vnd.jupyter.widget-view+json": {
       "model_id": "a471d895248e494189f3996302548b75",
       "version_major": 2,
       "version_minor": 0
      },
      "text/plain": [
       "IntSlider(value=3, description='Länge der Unterhaltung:', max=10, min=1)"
      ]
     },
     "metadata": {},
     "output_type": "display_data"
    }
   ],
   "source": [
    "(\n",
    "    api_key_widget,\n",
    "    example_widget,\n",
    "    conversation_length_widget\n",
    ") = display_input_parameters()"
   ]
  },
  {
   "cell_type": "code",
   "execution_count": 4,
   "metadata": {},
   "outputs": [
    {
     "name": "stdout",
     "output_type": "stream",
     "text": [
      "Math Student\n"
     ]
    },
    {
     "data": {
      "text/markdown": [
       "Are Pythagoras' Theorem and Euler's Identity connected to each other? If so, in what ways?"
      ],
      "text/plain": [
       "<IPython.core.display.Markdown object>"
      ]
     },
     "metadata": {},
     "output_type": "display_data"
    },
    {
     "name": "stdout",
     "output_type": "stream",
     "text": [
      "Math Tutor\n"
     ]
    },
    {
     "data": {
      "text/markdown": [
       "Pythagoras' Theorem and Euler's Identity are two foundational concepts in mathematics, but they originate from different areas and address different problems. Here's a brief overview of each, followed by any connections that can be considered:\n",
       "\n",
       "### Pythagoras' Theorem\n",
       "\n",
       "Pythagoras' Theorem is a fundamental principle in geometry that applies to right-angled triangles. The theorem states that:\n",
       "\n",
       "\\[\n",
       "a^2 + b^2 = c^2\n",
       "\\]\n",
       "\n",
       "where \\(a\\) and \\(b\\) are the lengths of the two legs (the sides that form the right angle) of a right triangle, and \\(c\\) is the length of the hypotenuse (the side opposite the right angle).\n",
       "\n",
       "### Euler's Identity\n",
       "\n",
       "Euler's Identity is one of the most celebrated equations in mathematics due to its beauty and simplicity. It is a special case of Euler's formula and is given by:\n",
       "\n",
       "\\[\n",
       "e^{i\\pi} + 1 = 0\n",
       "\\]\n",
       "\n",
       "This equation connects five fundamental mathematical constants: \\(e\\) (the base of the natural logarithm), \\(i\\) (the imaginary unit), \\(\\pi\\) (the ratio of a circle's circumference to its diameter), 1 (the multiplicative identity), and 0 (the additive identity).\n",
       "\n",
       "### Potential Connections\n",
       "\n",
       "While on the surface, Pythagoras' Theorem and Euler's Identity seem unrelated, there are a few indirect connections:\n",
       "\n",
       "1. **Complex Numbers and the Pythagorean Theorem:**\n",
       "   - Euler's Identity is key in the field of complex numbers, where complex numbers take the form \\(a + bi\\). The magnitude of a complex number, derived from its real and imaginary parts, can be calculated using the Pythagorean theorem: \\(|a + bi| = \\sqrt{a^2 + b^2}\\).\n",
       "\n",
       "2. **Unit Circle and Trigonometry:**\n",
       "   - Euler's formula \\(e^{i\\theta} = \\cos(\\theta) + i\\sin(\\theta)\\) is based on the unit circle, where \\(\\cos(\\theta)\\) and \\(\\sin(\\theta)\\) can be thought of as coordinates in a right-angle triangle. This again invokes the spirit of the Pythagorean theorem, as for points on the unit circle, \\(\\cos^2(\\theta) + \\sin^2(\\theta) = 1\\).\n",
       "\n",
       "3. **Historical and Developmental Links:**\n",
       "   - Pythagoras' Theorem has ancient roots and paved the way for trigonometry, which is heavily used in Euler's analytical work in the 18th century.\n",
       "\n",
       "Ultimately, the connections are more thematic and structural within mathematics, showcasing how diverse areas connect and inform each other. While they serve different purposes, both Pythagoras' Theorem and Euler's Identity illustrate the deep interrelatedness in mathematics, with geometry and analysis acting as bridges."
      ],
      "text/plain": [
       "<IPython.core.display.Markdown object>"
      ]
     },
     "metadata": {},
     "output_type": "display_data"
    },
    {
     "name": "stdout",
     "output_type": "stream",
     "text": [
      "Math Student\n"
     ]
    },
    {
     "data": {
      "text/markdown": [
       "Could you provide a visual explanation of the relationship between these mathematical concepts, especially through the unit circle and complex numbers?"
      ],
      "text/plain": [
       "<IPython.core.display.Markdown object>"
      ]
     },
     "metadata": {},
     "output_type": "display_data"
    },
    {
     "name": "stdout",
     "output_type": "stream",
     "text": [
      "Math Tutor\n"
     ]
    },
    {
     "data": {
      "text/markdown": [
       "Certainly! To explore the connections visually, let's focus on the unit circle and how it relates to both Euler's Identity and the Pythagorean theorem through complex numbers.\n",
       "\n",
       "### Unit Circle\n",
       "\n",
       "The unit circle is a circle with a radius of 1, centered at the origin of the coordinate system. It plays a critical role in trigonometry and complex analysis.\n",
       "\n",
       "#### Key Features of the Unit Circle:\n",
       "\n",
       "1. **Radius**: Every point on the unit circle is at a distance of 1 from the origin.\n",
       "2. **Coordinates**: Any point on the unit circle can be represented as \\((\\cos(\\theta), \\sin(\\theta))\\) where \\(\\theta\\) is the angle the point makes with the positive x-axis.\n",
       "3. **Pythagorean Identity**: From the coordinates, we have the relationship \\(\\cos^2(\\theta) + \\sin^2(\\theta) = 1\\), directly invoking Pythagoras' Theorem.\n",
       "\n",
       "### Complex Numbers and the Unit Circle:\n",
       "\n",
       "A complex number can be represented as \\(z = a + bi\\), where \\(a\\) is the real part and \\(b\\) is the imaginary part. On the complex plane, a complex number is a point \\((a, b)\\) which can also be expressed in polar coordinates as \\(r(\\cos(\\theta) + i \\sin(\\theta))\\).\n",
       "\n",
       "For the unit circle, if \\(r = 1\\), it simplifies the representation for points on the circle to:\n",
       "\n",
       "\\[ \n",
       "z = e^{i\\theta} = \\cos(\\theta) + i\\sin(\\theta) \n",
       "\\]\n",
       "\n",
       "### Euler's Identity Visualization:\n",
       "\n",
       "Euler's Identity, \\(e^{i\\pi} + 1 = 0\\), can be visualized on the unit circle as follows:\n",
       "\n",
       "- \\(e^{i\\pi}\\) corresponds to the point on the unit circle at an angle of \\(\\pi\\) radians (or 180 degrees), which is \\((-1, 0)\\) on the Cartesian plane.\n",
       "- Adding 1 results in zero, bringing the point back to the origin of the circle.\n",
       "\n",
       "Let's visualize this on the unit circle. We'll plot the unit circle, a point corresponding to \\(e^{i\\theta}\\), and explore the angle \\(\\theta = \\pi\\) specifically for Euler's Identity."
      ],
      "text/plain": [
       "<IPython.core.display.Markdown object>"
      ]
     },
     "metadata": {},
     "output_type": "display_data"
    },
    {
     "data": {
      "image/png": "[encoded data removed]",
      "text/plain": [
       "<Figure size 640x480 with 1 Axes>"
      ]
     },
     "metadata": {},
     "output_type": "display_data"
    },
    {
     "data": {
      "text/markdown": [
       "In the visualization above, we see:\n",
       "\n",
       "- **The Unit Circle**: Represented in blue, where each point on the circle corresponds to \\((\\cos(\\theta), \\sin(\\theta))\\).\n",
       "- **Key Points**: \n",
       "  - The point at \\(1\\) on the real axis corresponds to 0 radians.\n",
       "  - The point at \\(-1\\) on the real axis corresponds to \\(\\pi\\) radians, illustrating Euler's identity \\(e^{i\\pi} = -1\\).\n",
       "\n",
       "### Connections Highlighted:\n",
       "\n",
       "1. **Pythagorean Theorem**: Every point \\((\\cos(\\theta), \\sin(\\theta))\\) on the unit circle conforms to \\(\\cos^2(\\theta) + \\sin^2(\\theta) = 1\\), illustrating the theorem geometrically in terms of trigonometric identities.\n",
       "\n",
       "2. **Euler's Identity**: The path from \\(1\\) to \\(-1\\) along the real axis represents \\(e^{i\\pi} + 1 = 0\\). Here, \\(e^{i\\pi}\\) maps a point to the half-turn along the circle (angle \\(\\pi\\)), bringing us from \\(+1\\) to \\(-1\\).\n",
       "\n",
       "Both Pythagoras' Theorem and Euler's Identity, though distinct, find a common ground in the inherent geometric beauty and symmetry of the unit circle, uniting the realms of geometry and complex analysis."
      ],
      "text/plain": [
       "<IPython.core.display.Markdown object>"
      ]
     },
     "metadata": {},
     "output_type": "display_data"
    },
    {
     "name": "stdout",
     "output_type": "stream",
     "text": [
      "Math Student\n"
     ]
    },
    {
     "data": {
      "text/markdown": [
       "What are some real-world applications of Euler's Identity and Pythagoras' Theorem?"
      ],
      "text/plain": [
       "<IPython.core.display.Markdown object>"
      ]
     },
     "metadata": {},
     "output_type": "display_data"
    },
    {
     "name": "stdout",
     "output_type": "stream",
     "text": [
      "Math Tutor\n"
     ]
    },
    {
     "data": {
      "text/markdown": [
       "Euler's Identity and Pythagoras' Theorem, while primarily theoretical in nature, have significant real-world applications across various fields. Let's explore some key applications for each:\n",
       "\n",
       "### Pythagoras' Theorem Applications:\n",
       "\n",
       "1. **Surveying and Navigation**:\n",
       "   - In surveying, to measure inaccessible distances, Pythagoras' theorem helps in determining the length of an unknown side of a triangle when the lengths of the other two sides are known.\n",
       "   - In navigation, it is used in calculating the shortest path between two points.\n",
       "\n",
       "2. **Architecture and Construction**:\n",
       "   - Builders use the theorem to create accurate right angles in structures, ensuring buildings are upright and proportionally correct.\n",
       "   - It is also used in calculating the pitch of roofs.\n",
       "\n",
       "3. **Computer Graphics and Animation**:\n",
       "   - Pythagoras' theorem is essential for calculating distances and dimensions within graphics, helping to render 3D objects on 2D screens.\n",
       "\n",
       "4. **Physics and Engineering**:\n",
       "   - Used in analyzing forces and vectors, especially in calculating resultant forces.\n",
       "\n",
       "### Euler's Identity Applications:\n",
       "\n",
       "1. **Electrical Engineering**:\n",
       "   - Euler’s formula, from which Euler's identity derives, is pivotal for understanding electrical circuits, especially in analyzing alternating current (AC) circuits using phasors.\n",
       "\n",
       "2. **Signal Processing**:\n",
       "   - Fourier transforms, which express signals as sums of sines and cosines, utilize Euler's identity for converting between time and frequency domains.\n",
       "\n",
       "3. **Quantum Mechanics**:\n",
       "   - The complex exponential form in Schrödinger's equation and other wave functions often involves Euler's identity, making it foundational in quantum theory.\n",
       "\n",
       "4. **Control Systems**:\n",
       "   - Complex exponential functions, as in Euler's identity, describe system behaviors, such as stability and response dynamics in control systems engineering.\n",
       "\n",
       "While these applications leverage the underlying mathematical principles, both Euler's Identity and Pythagoras' Theorem illuminate the abstract and practical sides of mathematics, showcasing their power in formulating solutions to real-world problems across disciplines."
      ],
      "text/plain": [
       "<IPython.core.display.Markdown object>"
      ]
     },
     "metadata": {},
     "output_type": "display_data"
    }
   ],
   "source": [
    "agent_runner = AgentRunner(api_key=api_key_widget.value, example=example_widget.value)\n",
    "\n",
    "agent_runner.start_conversation(conversation_length_widget.value)"
   ]
  },
  {
   "cell_type": "code",
   "execution_count": 5,
   "metadata": {},
   "outputs": [
    {
     "name": "stdout",
     "output_type": "stream",
     "text": [
      "AssistantDeleted(id='asst_iiyaHMZCJ9Lso9weC6dQr2dF', deleted=True, object='assistant.deleted')\n",
      "AssistantDeleted(id='asst_UPeCnCdaepBwZcfIIQvNwgWq', deleted=True, object='assistant.deleted')\n"
     ]
    }
   ],
   "source": [
    "# delete the OpenAI assistants that were created for this demonstration\n",
    "del agent_runner"
   ]
  },
  {
   "cell_type": "code",
   "execution_count": null,
   "metadata": {},
   "outputs": [],
   "source": []
  }
 ],
 "metadata": {
  "kernelspec": {
   "display_name": ".venv",
   "language": "python",
   "name": "python3"
  },
  "language_info": {
   "codemirror_mode": {
    "name": "ipython",
    "version": 3
   },
   "file_extension": ".py",
   "mimetype": "text/x-python",
   "name": "python",
   "nbconvert_exporter": "python",
   "pygments_lexer": "ipython3",
   "version": "3.12.3"
  }
 },
 "nbformat": 4,
 "nbformat_minor": 2
}
