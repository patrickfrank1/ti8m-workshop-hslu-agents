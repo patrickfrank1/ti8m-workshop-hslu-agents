{
 "cells": [
  {
   "cell_type": "markdown",
   "metadata": {},
   "source": [
    "# Initiate a converation between a sales representative agent and a test customer agent\n",
    "\n",
    "You will initiate a conversation that will play out on your screen in real time. You can then judge the quality of the sales representative agent.\n",
    "\n",
    "First provide your API key in the notebook cell below and set the conversation length. Then execute the cells below to start a conversation between two agents."
   ]
  },
  {
   "cell_type": "code",
   "execution_count": 1,
   "metadata": {},
   "outputs": [],
   "source": [
    "from helper import display_input_parameters\n",
    "from agent_runner import AgentRunner"
   ]
  },
  {
   "cell_type": "code",
   "execution_count": null,
   "metadata": {},
   "outputs": [],
   "source": [
    "# Probiere diese Anweisungen an den Testagenten aus\n",
    "# tester_instruction = \"You still need to learn a lot about pythagoras theorem and Euler's Identity. Ask for a visual expalaination.\"\n",
    "# tester_instruction = \"Du stellst Fragen, die ein potenzieller Käufer einer Versicherungspolice stellen würde, um die Kompetenz des Versicherungsverkäufers zu testen.\""
   ]
  },
  {
   "cell_type": "code",
   "execution_count": 2,
   "metadata": {},
   "outputs": [
    {
     "data": {
      "application/vnd.jupyter.widget-view+json": {
       "model_id": "278617e17db94211bd1ede5e3d570068",
       "version_major": 2,
       "version_minor": 0
      },
      "text/plain": [
       "Textarea(value='', description='OpenAI API Key:', layout=Layout(height='50px', width='500px'), placeholder='sk…"
      ]
     },
     "metadata": {},
     "output_type": "display_data"
    },
    {
     "data": {
      "application/vnd.jupyter.widget-view+json": {
       "model_id": "0604b819dcab4d2a98949f5e28a8689f",
       "version_major": 2,
       "version_minor": 0
      },
      "text/plain": [
       "Dropdown(description='Beispiel:', index=1, options=('sales-customer', 'teacher-student'), value='teacher-stude…"
      ]
     },
     "metadata": {},
     "output_type": "display_data"
    },
    {
     "data": {
      "application/vnd.jupyter.widget-view+json": {
       "model_id": "cbb53a7ee35842338323b507bce63b90",
       "version_major": 2,
       "version_minor": 0
      },
      "text/plain": [
       "IntSlider(value=3, description='Länge der Unterhaltung:', max=10, min=1)"
      ]
     },
     "metadata": {},
     "output_type": "display_data"
    },
    {
     "data": {
      "application/vnd.jupyter.widget-view+json": {
       "model_id": "6bef5d39bd9441a6867499388659bbff",
       "version_major": 2,
       "version_minor": 0
      },
      "text/plain": [
       "Textarea(value='', description='Anweisung an den Testagenten:', layout=Layout(height='50px', width='500px'), p…"
      ]
     },
     "metadata": {},
     "output_type": "display_data"
    }
   ],
   "source": [
    "(\n",
    "    api_key_widget,\n",
    "    example_widget,\n",
    "    conversation_length_widget,\n",
    "    test_instruction_widget\n",
    ") = display_input_parameters()"
   ]
  },
  {
   "cell_type": "code",
   "execution_count": null,
   "metadata": {},
   "outputs": [
    {
     "name": "stdout",
     "output_type": "stream",
     "text": [
      "Math Student\n"
     ]
    },
    {
     "data": {
      "text/markdown": [
       "Could you provide a visual explanation of the Pythagorean theorem and Euler's identity?"
      ],
      "text/plain": [
       "<IPython.core.display.Markdown object>"
      ]
     },
     "metadata": {},
     "output_type": "display_data"
    },
    {
     "name": "stdout",
     "output_type": "stream",
     "text": [
      "Math Tutor\n"
     ]
    },
    {
     "data": {
      "text/markdown": [
       "Certainly! Let's break down both the Pythagorean theorem and Euler's identity visually.\n",
       "\n",
       "### Pythagorean Theorem\n",
       "\n",
       "**Statement:** In a right-angled triangle, the square of the length of the hypotenuse (\\(c\\)) is equal to the sum of the squares of the lengths of the other two sides (\\(a\\) and \\(b\\)).\n",
       "\n",
       "\\[\n",
       "c^2 = a^2 + b^2\n",
       "\\]\n",
       "\n",
       "**Visual Explanation:** We can illustrate the Pythagorean theorem by constructing squares on each side of a right triangle.\n",
       "\n",
       "1. Draw a right-angled triangle.\n",
       "2. Construct squares on each of the three sides.\n",
       "3. Show that the area of the square on the hypotenuse equals the sum of the areas of the squares on the other two sides.\n",
       "\n",
       "Let's create this visual representation."
      ],
      "text/plain": [
       "<IPython.core.display.Markdown object>"
      ]
     },
     "metadata": {},
     "output_type": "display_data"
    },
    {
     "data": {
      "image/png": "[encoded data removed]",
      "text/plain": [
       "<Figure size 640x480 with 1 Axes>"
      ]
     },
     "metadata": {},
     "output_type": "display_data"
    },
    {
     "data": {
      "text/markdown": [
       "In the visual representation above, we have a right-angled triangle with sides \\(a\\), \\(b\\), and hypotenuse \\(c\\). Squares are constructed on each side:\n",
       "\n",
       "- The blue square is constructed on side \\(a\\).\n",
       "- The red square is constructed on side \\(b\\).\n",
       "- The green square is constructed on the hypotenuse \\(c\\).\n",
       "\n",
       "This visual illustrates that the area of the green square (on the hypotenuse) is equal to the sum of the areas of the blue and red squares, demonstrating the Pythagorean theorem.\n",
       "\n",
       "### Euler's Identity\n",
       "\n",
       "**Statement:** Euler's identity is a special case of Euler's formula which is given by:\n",
       "\n",
       "\\[ e^{i\\pi} + 1 = 0 \\]\n",
       "\n",
       "Euler's identity is considered one of the most beautiful equations in mathematics because it contains five fundamental mathematical constants:\n",
       "\n",
       "- \\(e\\) (the base of natural logarithms)\n",
       "- \\(i\\) (the imaginary unit)\n",
       "- \\(\\pi\\) (the ratio of the circumference to the diameter of a circle)\n",
       "- \\(1\\) (the multiplicative identity)\n",
       "- \\(0\\) (the additive identity)\n",
       "\n",
       "**Visual Explanation:** We can visualize this identity using the unit circle in the complex plane.\n",
       "\n",
       "Let's create this visual representation."
      ],
      "text/plain": [
       "<IPython.core.display.Markdown object>"
      ]
     },
     "metadata": {},
     "output_type": "display_data"
    },
    {
     "data": {
      "image/png": "[encoded data removed]",
      "text/plain": [
       "<Figure size 640x480 with 1 Axes>"
      ]
     },
     "metadata": {},
     "output_type": "display_data"
    },
    {
     "data": {
      "text/markdown": [
       "In the unit circle visualization, Euler's identity is shown in the complex plane:\n",
       "\n",
       "- The grey dashed circle represents the unit circle, which has a radius of 1.\n",
       "- The red dashed line represents the angle \\(\\pi\\) radians (180 degrees), leading from \\(1\\) (on the positive real axis) to \\(-1\\) (on the negative real axis).\n",
       "- The point \\(-1\\) on this unit circle is derived from \\(e^{i\\pi}\\).\n",
       "- Euler's identity \\(e^{i\\pi} + 1 = 0\\) is represented by moving from \\(-1\\) on the circle to \\(0\\) on the real axis.\n",
       "\n",
       "This captures the incredible simplicity and beauty of Euler's identity, elegantly connecting fundamental constants and structures in mathematics."
      ],
      "text/plain": [
       "<IPython.core.display.Markdown object>"
      ]
     },
     "metadata": {},
     "output_type": "display_data"
    },
    {
     "name": "stdout",
     "output_type": "stream",
     "text": [
      "Math Student\n"
     ]
    },
    {
     "data": {
      "text/markdown": [
       "How does the visual representation of Euler's identity help us understand the relationship between exponential functions and trigonometric functions?"
      ],
      "text/plain": [
       "<IPython.core.display.Markdown object>"
      ]
     },
     "metadata": {},
     "output_type": "display_data"
    },
    {
     "name": "stdout",
     "output_type": "stream",
     "text": [
      "Math Tutor\n"
     ]
    },
    {
     "data": {
      "text/markdown": [
       "Euler's identity, as visualized on the unit circle, offers deep insights into the relationship between exponential functions and trigonometric functions. This connection is mainly encapsulated in Euler's formula:\n",
       "\n",
       "\\[ e^{i\\theta} = \\cos(\\theta) + i\\sin(\\theta) \\]\n",
       "\n",
       "### Visual Representation and Relationship\n",
       "\n",
       "1. **Complex Plane and Unit Circle:**\n",
       "   - The unit circle in the complex plane represents all complex numbers with a magnitude of 1. Each point on this circle corresponds to the values derived from \\(e^{i\\theta}\\).\n",
       "   \n",
       "2. **Connection to Trigonometry:**\n",
       "   - The real part of \\(e^{i\\theta}\\) on the complex plane is \\(\\cos(\\theta)\\), and the imaginary part is \\(\\sin(\\theta)\\).\n",
       "   - As \\(\\theta\\) varies, the point \\(e^{i\\theta}\\) traces the unit circle, showing smooth transitions between cosine and sine values, which are fundamental trigonometric functions.\n",
       "\n",
       "3. **Euler’s Identity \\(e^{i\\pi} + 1 = 0\\):**\n",
       "   - Specifically, when \\(\\theta = \\pi\\), Euler's identity gives us \\(e^{i\\pi} = -1\\). This shows how a purely exponential expression results directly in a real number—a fundamental connection between exponential and trigonometric equations.\n",
       "\n",
       "### Interpretation\n",
       "\n",
       "- **Exponential Growth over Angle:** The visual illustrates how exponential functions with imaginary exponents (complex exponentials) encapsulate oscillatory trigonometric behavior.\n",
       "- **Unified Framework:** Euler’s formula, and hence Euler's identity, demonstrate how exponential and circular (trigonometric) functions are different expressions of the same underlying concept in mathematics.\n",
       "- **Applications:** This relationship is foundational in many fields including signal processing, quantum physics, and electrical engineering, where oscillatory phenomena are often described using complex exponentials.\n",
       "\n",
       "### Conclusion\n",
       "\n",
       "The visualization of Euler's identity on the unit circle not only aids in understanding complex exponentials but also beautifully illustrates the intrinsic relationship between exponential and trigonometric functions, revealing how they work together as parts of a seamless mathematical structure."
      ],
      "text/plain": [
       "<IPython.core.display.Markdown object>"
      ]
     },
     "metadata": {},
     "output_type": "display_data"
    }
   ],
   "source": [
    "agent_runner = AgentRunner(api_key=api_key_widget.value, example=example_widget.value)\n",
    "\n",
    "agent_runner.start_conversation(test_instruction_widget.value, conversation_length_widget.value)"
   ]
  },
  {
   "cell_type": "code",
   "execution_count": 4,
   "metadata": {},
   "outputs": [
    {
     "name": "stdout",
     "output_type": "stream",
     "text": [
      "AssistantDeleted(id='asst_xlda71ld75VWcerBprzGXajs', deleted=True, object='assistant.deleted')\n",
      "AssistantDeleted(id='asst_Bca6Obb4d50MeC5IXBOPmtMl', deleted=True, object='assistant.deleted')\n"
     ]
    }
   ],
   "source": [
    "# delete the OpenAI assistants that were created for this demonstration\n",
    "del agent_runner"
   ]
  },
  {
   "cell_type": "code",
   "execution_count": null,
   "metadata": {},
   "outputs": [],
   "source": []
  }
 ],
 "metadata": {
  "kernelspec": {
   "display_name": ".venv",
   "language": "python",
   "name": "python3"
  },
  "language_info": {
   "codemirror_mode": {
    "name": "ipython",
    "version": 3
   },
   "file_extension": ".py",
   "mimetype": "text/x-python",
   "name": "python",
   "nbconvert_exporter": "python",
   "pygments_lexer": "ipython3",
   "version": "3.12.3"
  }
 },
 "nbformat": 4,
 "nbformat_minor": 2
}
