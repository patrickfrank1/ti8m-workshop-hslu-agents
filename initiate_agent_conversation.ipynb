{
 "cells": [
  {
   "cell_type": "markdown",
   "metadata": {},
   "source": [
    "# Initiate a converation between a sales representative agent and a test customer agent\n",
    "\n",
    "You will initiate a conversation that will play out on your screen in real time. You can then judge the quality of the sales representative agent."
   ]
  },
  {
   "cell_type": "code",
   "execution_count": 1,
   "metadata": {},
   "outputs": [],
   "source": [
    "# please insert your OpenAI API key here\n",
    "OPENAI_API_KEY = \"sk-...\"\n",
    "# specify how long the conversation should be\n",
    "CONVERSATION_LENGTH = 2"
   ]
  },
  {
   "cell_type": "code",
   "execution_count": 2,
   "metadata": {},
   "outputs": [],
   "source": [
    "from agent_runner import AgentRunner"
   ]
  },
  {
   "cell_type": "code",
   "execution_count": 3,
   "metadata": {},
   "outputs": [
    {
     "name": "stdout",
     "output_type": "stream",
     "text": [
      "Teacher:\n",
      "\n"
     ]
    },
    {
     "data": {
      "text/markdown": [
       "I'm trying to understand the connection between the Pythagorean theorem and Euler's Identity. Can you explain how these two concepts are related, if at all, and give a practical example of where they might intersect?"
      ],
      "text/plain": [
       "<IPython.core.display.Markdown object>"
      ]
     },
     "metadata": {},
     "output_type": "display_data"
    },
    {
     "name": "stdout",
     "output_type": "stream",
     "text": [
      "Teacher:\n",
      "\n"
     ]
    },
    {
     "data": {
      "text/markdown": [
       "The Pythagorean theorem and Euler's Identity are two fundamental concepts in mathematics, but they belong to different areas and are used in different contexts. However, they are connected through the framework of complex numbers and trigonometry. Let me explain each concept briefly and discuss their intersection:\n",
       "\n",
       "1. **Pythagorean Theorem:**\n",
       "   - This theorem is fundamental in geometry, particularly in the context of right triangles. It states that in a right triangle, the square of the length of the hypotenuse (the side opposite the right angle) is equal to the sum of the squares of the lengths of the other two sides. The formula is \\(a^2 + b^2 = c^2\\).\n",
       "\n",
       "2. **Euler's Identity:**\n",
       "   - Euler's Identity is a remarkable equation in mathematics that combines several fundamental numbers and operations. It is typically stated as:\n",
       "     \\[\n",
       "     e^{i\\pi} + 1 = 0\n",
       "     \\]\n",
       "   - This identity stems from Euler's formula, which relates complex exponentials to trigonometric functions: \n",
       "     \\[\n",
       "     e^{ix} = \\cos(x) + i\\sin(x)\n",
       "     \\]\n",
       "   - Where \\( i \\) is the imaginary unit.\n",
       "\n",
       "**Connection and Intersection:**\n",
       "\n",
       "The connection between the Pythagorean theorem and Euler's Identity arises in the context of the unit circle on the complex plane. Here's how they intersect:\n",
       "\n",
       "- **Unit Circle:**\n",
       "  - In the complex plane, a point on the unit circle can be represented as \\( e^{i\\theta} \\), where \\(\\theta\\) is the angle made with the positive real axis.\n",
       "  - According to Euler’s formula, this point can also be expressed as \\(\\cos(\\theta) + i\\sin(\\theta)\\). \n",
       "\n",
       "- **Pythagorean Identity:**\n",
       "  - For any angle \\(\\theta\\), the trigonometric identity \\(\\cos^2(\\theta) + \\sin^2(\\theta) = 1\\) is derived using the Pythagorean theorem. This is essentially the Pythagorean theorem applied to the unit circle, as \\(\\cos(\\theta)\\) and \\(\\sin(\\theta)\\) are the \\(x\\) and \\(y\\) coordinates of a point at angle \\(\\theta\\) on the circle.\n",
       "\n",
       "- **Connecting to Euler's Identity:**\n",
       "  - In Euler’s formula \\( e^{i\\pi} = \\cos(\\pi) + i\\sin(\\pi) \\), we have \\(\\cos(\\pi) = -1\\) and \\(\\sin(\\pi) = 0\\), which leads directly to Euler's Identity: \\( e^{i\\pi} = -1 \\).\n",
       "\n",
       "**Practical Example:**\n",
       "\n",
       "- Consider signal processing or wave analysis, where signals are often represented as complex exponentials. The behavior of these signals is described using both real and imaginary components, akin to plotting points on the unit circle, and the interaction of these points involves trigonometric identities.\n",
       "- The connection is also crucial in electrical engineering, particularly when dealing with alternating current (AC) circuits, where phase differences are represented using complex numbers.\n",
       "\n",
       "In summary, the Pythagorean theorem provides the fundamental relationship between trigonometric functions that are key to understanding the geometric representation of complex numbers, which Euler's formula and identity exploit."
      ],
      "text/plain": [
       "<IPython.core.display.Markdown object>"
      ]
     },
     "metadata": {},
     "output_type": "display_data"
    },
    {
     "name": "stdout",
     "output_type": "stream",
     "text": [
      "Teacher:\n",
      "\n"
     ]
    },
    {
     "data": {
      "text/markdown": [
       "Can you provide a practical example with calculations that illustrate how Euler's formula is connected to the Pythagorean theorem through a complex number example?"
      ],
      "text/plain": [
       "<IPython.core.display.Markdown object>"
      ]
     },
     "metadata": {},
     "output_type": "display_data"
    },
    {
     "name": "stdout",
     "output_type": "stream",
     "text": [
      "Teacher:\n",
      "\n"
     ]
    },
    {
     "data": {
      "text/markdown": [
       "Certainly! Let's explore a practical example using Euler's formula and the Pythagorean theorem to illustrate their connection through a geometric representation on the complex plane.\n",
       "\n",
       "### Example: Representing a Point on the Unit Circle\n",
       "\n",
       "1. **Consider a Point on the Unit Circle:**\n",
       "\n",
       "   Let's choose an angle \\(\\theta = \\frac{\\pi}{4}\\) radians (which is 45 degrees) and express the corresponding point on the unit circle using Euler's formula:\n",
       "\n",
       "   \\[\n",
       "   z = e^{i\\frac{\\pi}{4}} = \\cos\\left(\\frac{\\pi}{4}\\right) + i\\sin\\left(\\frac{\\pi}{4}\\right)\n",
       "   \\]\n",
       "\n",
       "2. **Calculate the Trigonometric Components:**\n",
       "\n",
       "   We can calculate \\(\\cos\\left(\\frac{\\pi}{4}\\right)\\) and \\(\\sin\\left(\\frac{\\pi}{4}\\right)\\):\n",
       "\n",
       "   \\[\n",
       "   \\cos\\left(\\frac{\\pi}{4}\\right) = \\sin\\left(\\frac{\\pi}{4}\\right) = \\frac{\\sqrt{2}}{2}\n",
       "   \\]\n",
       "\n",
       "   So, the point on the unit circle is:\n",
       "\n",
       "   \\[\n",
       "   z = \\frac{\\sqrt{2}}{2} + i\\frac{\\sqrt{2}}{2}\n",
       "   \\]\n",
       "\n",
       "3. **Verify the Pythagorean Identity:**\n",
       "\n",
       "   According to the Pythagorean identity, for any angle \\(\\theta\\),\n",
       "\n",
       "   \\[\n",
       "   \\cos^2\\left(\\theta\\right) + \\sin^2\\left(\\theta\\right) = 1\n",
       "   \\]\n",
       "\n",
       "   Let's verify this for \\(\\theta = \\frac{\\pi}{4}\\):\n",
       "\n",
       "   \\[\n",
       "   \\left(\\frac{\\sqrt{2}}{2}\\right)^2 + \\left(\\frac{\\sqrt{2}}{2}\\right)^2 = \\frac{2}{4} + \\frac{2}{4} = 1\n",
       "   \\]\n",
       "\n",
       "   This confirms that our point indeed lies on the unit circle.\n",
       "\n",
       "4. **Visualize the Connection:**\n",
       "\n",
       "   The complex number \\( z = \\frac{\\sqrt{2}}{2} + i\\frac{\\sqrt{2}}{2} \\) represents a point on the unit circle in the complex plane, which can be visualized as:\n",
       "\n",
       "   - The real part \\(\\frac{\\sqrt{2}}{2}\\) represents the cosine component (the adjacent side of the right triangle in the unit circle).\n",
       "   - The imaginary part \\(i\\frac{\\sqrt{2}}{2}\\) represents the sine component (the opposite side of the right triangle).\n",
       "\n",
       "   The hypotenuse of this right triangle is 1 because it represents the radius of the unit circle. This directly ties into the Pythagorean theorem (\\(a^2 + b^2 = c^2\\)), where \\(a\\) and \\(b\\) are the lengths of the two legs, and \\(c\\) is the hypotenuse.\n",
       "\n",
       "In essence, Euler's formula and the representation of complex numbers on the unit circle provide a beautiful interplay between algebraic, trigonometric, and geometric perspectives, all brought together by the Pythagorean theorem."
      ],
      "text/plain": [
       "<IPython.core.display.Markdown object>"
      ]
     },
     "metadata": {},
     "output_type": "display_data"
    },
    {
     "ename": "AttributeError",
     "evalue": "'ImageFileContentBlock' object has no attribute 'text'",
     "output_type": "error",
     "traceback": [
      "\u001b[0;31m---------------------------------------------------------------------------\u001b[0m",
      "\u001b[0;31mAttributeError\u001b[0m                            Traceback (most recent call last)",
      "Cell \u001b[0;32mIn[3], line 4\u001b[0m\n\u001b[1;32m      1\u001b[0m agent_runner \u001b[38;5;241m=\u001b[39m AgentRunner(OPENAI_API_KEY)\n\u001b[1;32m      3\u001b[0m student_instruction \u001b[38;5;241m=\u001b[39m \u001b[38;5;124m\"\u001b[39m\u001b[38;5;124mYou still need to learn a lot about pythagoras theorem and Euler\u001b[39m\u001b[38;5;124m'\u001b[39m\u001b[38;5;124ms Identity.\u001b[39m\u001b[38;5;124m\"\u001b[39m\n\u001b[0;32m----> 4\u001b[0m \u001b[43magent_runner\u001b[49m\u001b[38;5;241;43m.\u001b[39;49m\u001b[43mstart_conversation\u001b[49m\u001b[43m(\u001b[49m\u001b[43mstudent_instruction\u001b[49m\u001b[43m,\u001b[49m\u001b[43m \u001b[49m\u001b[43mCONVERSATION_LENGTH\u001b[49m\u001b[43m)\u001b[49m\n",
      "File \u001b[0;32m~/Documents/dev/hslu_workshop_agent_orchestrator/agent_runner.py:56\u001b[0m, in \u001b[0;36mAgentRunner.start_conversation\u001b[0;34m(self, student_instruction, conversation_length)\u001b[0m\n\u001b[1;32m     50\u001b[0m \u001b[38;5;28;01mfor\u001b[39;00m i \u001b[38;5;129;01min\u001b[39;00m \u001b[38;5;28mrange\u001b[39m(conversation_length):\n\u001b[1;32m     51\u001b[0m     run \u001b[38;5;241m=\u001b[39m \u001b[38;5;28mself\u001b[39m\u001b[38;5;241m.\u001b[39mclient\u001b[38;5;241m.\u001b[39mbeta\u001b[38;5;241m.\u001b[39mthreads\u001b[38;5;241m.\u001b[39mruns\u001b[38;5;241m.\u001b[39mcreate_and_poll(\n\u001b[1;32m     52\u001b[0m         thread_id\u001b[38;5;241m=\u001b[39m\u001b[38;5;28mself\u001b[39m\u001b[38;5;241m.\u001b[39mthread\u001b[38;5;241m.\u001b[39mid,\n\u001b[1;32m     53\u001b[0m         assistant_id\u001b[38;5;241m=\u001b[39m\u001b[38;5;28mself\u001b[39m\u001b[38;5;241m.\u001b[39mstudent_assistant\u001b[38;5;241m.\u001b[39mid,\n\u001b[1;32m     54\u001b[0m         instructions\u001b[38;5;241m=\u001b[39mstudent_initial_instruction \u001b[38;5;28;01mif\u001b[39;00m i \u001b[38;5;241m==\u001b[39m \u001b[38;5;241m0\u001b[39m \u001b[38;5;28;01melse\u001b[39;00m student_instruction\n\u001b[1;32m     55\u001b[0m     )\n\u001b[0;32m---> 56\u001b[0m     \u001b[38;5;28;43mself\u001b[39;49m\u001b[38;5;241;43m.\u001b[39;49m\u001b[43m_print_latest_message\u001b[49m\u001b[43m(\u001b[49m\u001b[38;5;28;43mself\u001b[39;49m\u001b[38;5;241;43m.\u001b[39;49m\u001b[43mthread\u001b[49m\u001b[38;5;241;43m.\u001b[39;49m\u001b[43mid\u001b[49m\u001b[43m)\u001b[49m\n\u001b[1;32m     57\u001b[0m     run \u001b[38;5;241m=\u001b[39m \u001b[38;5;28mself\u001b[39m\u001b[38;5;241m.\u001b[39mclient\u001b[38;5;241m.\u001b[39mbeta\u001b[38;5;241m.\u001b[39mthreads\u001b[38;5;241m.\u001b[39mruns\u001b[38;5;241m.\u001b[39mcreate_and_poll(\n\u001b[1;32m     58\u001b[0m         thread_id\u001b[38;5;241m=\u001b[39m\u001b[38;5;28mself\u001b[39m\u001b[38;5;241m.\u001b[39mthread\u001b[38;5;241m.\u001b[39mid,\n\u001b[1;32m     59\u001b[0m         assistant_id\u001b[38;5;241m=\u001b[39m\u001b[38;5;28mself\u001b[39m\u001b[38;5;241m.\u001b[39mteacher_assistant\u001b[38;5;241m.\u001b[39mid,\n\u001b[1;32m     60\u001b[0m         instructions\u001b[38;5;241m=\u001b[39mteacher_instruction\n\u001b[1;32m     61\u001b[0m     )\n\u001b[1;32m     62\u001b[0m     \u001b[38;5;28mself\u001b[39m\u001b[38;5;241m.\u001b[39m_print_latest_message(\u001b[38;5;28mself\u001b[39m\u001b[38;5;241m.\u001b[39mthread\u001b[38;5;241m.\u001b[39mid)\n",
      "File \u001b[0;32m~/Documents/dev/hslu_workshop_agent_orchestrator/agent_runner.py:34\u001b[0m, in \u001b[0;36mAgentRunner._print_latest_message\u001b[0;34m(self, thread_id)\u001b[0m\n\u001b[1;32m     30\u001b[0m \u001b[38;5;28;01mdef\u001b[39;00m \u001b[38;5;21m_print_latest_message\u001b[39m(\u001b[38;5;28mself\u001b[39m, thread_id: \u001b[38;5;28mstr\u001b[39m) \u001b[38;5;241m-\u001b[39m\u001b[38;5;241m>\u001b[39m \u001b[38;5;28;01mNone\u001b[39;00m:\n\u001b[1;32m     31\u001b[0m     messages \u001b[38;5;241m=\u001b[39m \u001b[38;5;28mself\u001b[39m\u001b[38;5;241m.\u001b[39mclient\u001b[38;5;241m.\u001b[39mbeta\u001b[38;5;241m.\u001b[39mthreads\u001b[38;5;241m.\u001b[39mmessages\u001b[38;5;241m.\u001b[39mlist(\n\u001b[1;32m     32\u001b[0m         thread_id\u001b[38;5;241m=\u001b[39mthread_id\n\u001b[1;32m     33\u001b[0m     )\n\u001b[0;32m---> 34\u001b[0m     latest_messsage \u001b[38;5;241m=\u001b[39m \u001b[43mmessages\u001b[49m\u001b[38;5;241;43m.\u001b[39;49m\u001b[43mdata\u001b[49m\u001b[43m[\u001b[49m\u001b[38;5;241;43m0\u001b[39;49m\u001b[43m]\u001b[49m\u001b[38;5;241;43m.\u001b[39;49m\u001b[43mcontent\u001b[49m\u001b[43m[\u001b[49m\u001b[38;5;241;43m0\u001b[39;49m\u001b[43m]\u001b[49m\u001b[38;5;241;43m.\u001b[39;49m\u001b[43mtext\u001b[49m\u001b[38;5;241m.\u001b[39mvalue\n\u001b[1;32m     35\u001b[0m     \u001b[38;5;28;01mif\u001b[39;00m \u001b[38;5;28mlen\u001b[39m(messages\u001b[38;5;241m.\u001b[39mdata) \u001b[38;5;241m%\u001b[39m \u001b[38;5;241m2\u001b[39m \u001b[38;5;241m==\u001b[39m \u001b[38;5;241m0\u001b[39m:\n\u001b[1;32m     36\u001b[0m         \u001b[38;5;28mprint\u001b[39m(\u001b[38;5;124m\"\u001b[39m\u001b[38;5;124mTeacher:\u001b[39m\u001b[38;5;130;01m\\n\u001b[39;00m\u001b[38;5;124m\"\u001b[39m)\n",
      "File \u001b[0;32m~/Documents/dev/hslu_workshop_agent_orchestrator/.venv/lib/python3.12/site-packages/pydantic/main.py:856\u001b[0m, in \u001b[0;36mBaseModel.__getattr__\u001b[0;34m(self, item)\u001b[0m\n\u001b[1;32m    853\u001b[0m     \u001b[38;5;28;01mreturn\u001b[39;00m \u001b[38;5;28msuper\u001b[39m()\u001b[38;5;241m.\u001b[39m\u001b[38;5;21m__getattribute__\u001b[39m(item)  \u001b[38;5;66;03m# Raises AttributeError if appropriate\u001b[39;00m\n\u001b[1;32m    854\u001b[0m \u001b[38;5;28;01melse\u001b[39;00m:\n\u001b[1;32m    855\u001b[0m     \u001b[38;5;66;03m# this is the current error\u001b[39;00m\n\u001b[0;32m--> 856\u001b[0m     \u001b[38;5;28;01mraise\u001b[39;00m \u001b[38;5;167;01mAttributeError\u001b[39;00m(\u001b[38;5;124mf\u001b[39m\u001b[38;5;124m'\u001b[39m\u001b[38;5;132;01m{\u001b[39;00m\u001b[38;5;28mtype\u001b[39m(\u001b[38;5;28mself\u001b[39m)\u001b[38;5;241m.\u001b[39m\u001b[38;5;18m__name__\u001b[39m\u001b[38;5;132;01m!r}\u001b[39;00m\u001b[38;5;124m object has no attribute \u001b[39m\u001b[38;5;132;01m{\u001b[39;00mitem\u001b[38;5;132;01m!r}\u001b[39;00m\u001b[38;5;124m'\u001b[39m)\n",
      "\u001b[0;31mAttributeError\u001b[0m: 'ImageFileContentBlock' object has no attribute 'text'"
     ]
    }
   ],
   "source": [
    "agent_runner = AgentRunner(OPENAI_API_KEY)\n",
    "\n",
    "student_instruction = \"You still need to learn a lot about pythagoras theorem and Euler's Identity.\"\n",
    "agent_runner.start_conversation(student_instruction, CONVERSATION_LENGTH)"
   ]
  }
 ],
 "metadata": {
  "kernelspec": {
   "display_name": ".venv",
   "language": "python",
   "name": "python3"
  },
  "language_info": {
   "codemirror_mode": {
    "name": "ipython",
    "version": 3
   },
   "file_extension": ".py",
   "mimetype": "text/x-python",
   "name": "python",
   "nbconvert_exporter": "python",
   "pygments_lexer": "ipython3",
   "version": "3.12.3"
  }
 },
 "nbformat": 4,
 "nbformat_minor": 2
}
