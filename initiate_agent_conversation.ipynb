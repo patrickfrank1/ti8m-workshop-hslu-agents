{
 "cells": [
  {
   "cell_type": "markdown",
   "metadata": {},
   "source": [
    "# Initiate a converation between a sales representative agent and a test customer agent\n",
    "\n",
    "You will initiate a conversation that will play out on your screen in real time. You can then judge the quality of the sales representative agent."
   ]
  },
  {
   "cell_type": "code",
   "execution_count": 1,
   "metadata": {},
   "outputs": [],
   "source": [
    "# please insert your OpenAI API key here\n",
    "OPENAI_API_KEY = \"sk-...\"\n",
    "# specify how long the conversation should be\n",
    "CONVERSATION_LENGTH = 2"
   ]
  },
  {
   "cell_type": "code",
   "execution_count": 2,
   "metadata": {},
   "outputs": [],
   "source": [
    "from agent_runner import AgentRunner"
   ]
  },
  {
   "cell_type": "code",
   "execution_count": 3,
   "metadata": {},
   "outputs": [
    {
     "name": "stdout",
     "output_type": "stream",
     "text": [
      "Teacher:\n",
      "\n"
     ]
    },
    {
     "data": {
      "text/markdown": [
       "What is Euler's Identity, and how is it connected to Euler's Formula or the Pythagorean theorem?"
      ],
      "text/plain": [
       "<IPython.core.display.Markdown object>"
      ]
     },
     "metadata": {},
     "output_type": "display_data"
    },
    {
     "name": "stdout",
     "output_type": "stream",
     "text": [
      "Teacher:\n",
      "\n"
     ]
    },
    {
     "data": {
      "text/markdown": [
       "Euler's Identity is one of the most strikingly beautiful equations in mathematics. It is a special case of Euler's Formula and can be written as:\n",
       "\n",
       "\\[ e^{i\\pi} + 1 = 0 \\]\n",
       "\n",
       "Euler's Identity is remarkable because it combines five fundamental mathematical constants into a single equation:\n",
       "\n",
       "- \\( e \\), the base of the natural logarithm, approximately equal to 2.71828.\n",
       "- \\( i \\), the imaginary unit, which is the square root of -1.\n",
       "- \\( \\pi \\), the ratio of a circle's circumference to its diameter, approximately equal to 3.14159.\n",
       "- 1, the multiplicative identity.\n",
       "- 0, the additive identity.\n",
       "\n",
       "### Connection to Euler's Formula\n",
       "\n",
       "Euler's Formula itself is a more general equation given by:\n",
       "\n",
       "\\[ e^{ix} = \\cos(x) + i\\sin(x) \\]\n",
       "\n",
       "This formula shows the deep relationship between exponential functions and trigonometric functions, where \\( x \\) is a real number and can be an angle measured in radians.\n",
       "\n",
       "**Euler's Identity** is derived by setting \\( x = \\pi \\) in Euler's Formula:\n",
       "\n",
       "\\[ e^{i\\pi} = \\cos(\\pi) + i\\sin(\\pi) = -1 + 0i \\]\n",
       "\n",
       "Hence, adding 1 gives:\n",
       "\n",
       "\\[ e^{i\\pi} + 1 = 0 \\]\n",
       "\n",
       "### Connection to the Pythagorean Theorem\n",
       "\n",
       "The connection to the Pythagorean theorem is more abstract and lies in the geometric interpretation of complex numbers and trigonometry. The Pythagorean identity in trigonometry, \\(\\cos^2(x) + \\sin^2(x) = 1\\), parallels the Pythagorean theorem \\(a^2 + b^2 = c^2\\).\n",
       "\n",
       "In the complex plane, the exponential function \\(e^{ix}\\) traces a unit circle with a radius of 1 centered at the origin, where the real part is \\(\\cos(x)\\) and the imaginary part is \\(\\sin(x)\\). The unit circle's equation \\(\\cos^2(x) + \\sin^2(x) = 1\\) is an expression of the Pythagorean theorem in this context, where the hypotenuse (radius) is 1.\n",
       "\n",
       "Thus, Euler's Identity beautifully encapsulates how trigonometric functions (\\(\\cos\\), \\(\\sin\\)) and the exponential function are unified in the complex plane in a manner that reflects the geometric foundations of the Pythagorean theorem."
      ],
      "text/plain": [
       "<IPython.core.display.Markdown object>"
      ]
     },
     "metadata": {},
     "output_type": "display_data"
    },
    {
     "name": "stdout",
     "output_type": "stream",
     "text": [
      "Teacher:\n",
      "\n"
     ]
    },
    {
     "data": {
      "text/markdown": [
       "Can you show me how Euler's Formula works with an example?"
      ],
      "text/plain": [
       "<IPython.core.display.Markdown object>"
      ]
     },
     "metadata": {},
     "output_type": "display_data"
    },
    {
     "name": "stdout",
     "output_type": "stream",
     "text": [
      "Teacher:\n",
      "\n"
     ]
    },
    {
     "data": {
      "text/markdown": [
       "When we apply Euler's Formula to \\( x = \\frac{\\pi}{4} \\), we find:\n",
       "\n",
       "\\[ e^{i\\pi/4} \\approx 0.7071 + 0.7071i \\]\n",
       "\n",
       "This matches the computed separate cosine and sine values:\n",
       "\n",
       "- \\( \\cos\\left(\\frac{\\pi}{4}\\right) \\approx 0.7071 \\)\n",
       "- \\( \\sin\\left(\\frac{\\pi}{4}\\right) \\approx 0.7071 \\)\n",
       "\n",
       "Thus, the result confirms Euler's Formula:\n",
       "\n",
       "\\[ e^{i\\pi/4} = \\cos\\left(\\frac{\\pi}{4}\\right) + i\\sin\\left(\\frac{\\pi}{4}\\right) = 0.7071 + 0.7071i \\]\n",
       "\n",
       "This real part and imaginary part both equal \\(\\frac{\\sqrt{2}}{2}\\), demonstrating how the complex exponential function ties exponential growth to rotation on the complex plane."
      ],
      "text/plain": [
       "<IPython.core.display.Markdown object>"
      ]
     },
     "metadata": {},
     "output_type": "display_data"
    }
   ],
   "source": [
    "#agent_runner = AgentRunner(OPENAI_API_KEY)\n",
    "agent_runner = AgentRunner()\n",
    "\n",
    "student_instruction = \"You still need to learn a lot about pythagoras theorem and Euler's Identity.\"\n",
    "agent_runner.start_conversation(student_instruction, CONVERSATION_LENGTH)"
   ]
  },
  {
   "cell_type": "code",
   "execution_count": 4,
   "metadata": {},
   "outputs": [
    {
     "name": "stdout",
     "output_type": "stream",
     "text": [
      "AssistantDeleted(id='asst_rixsm1lMhKIWR7rxvM0D3WHc', deleted=True, object='assistant.deleted')\n",
      "AssistantDeleted(id='asst_DswscF1ABIVhJMICA5AyBcgg', deleted=True, object='assistant.deleted')\n"
     ]
    }
   ],
   "source": [
    "del agent_runner"
   ]
  },
  {
   "cell_type": "code",
   "execution_count": null,
   "metadata": {},
   "outputs": [],
   "source": []
  }
 ],
 "metadata": {
  "kernelspec": {
   "display_name": ".venv",
   "language": "python",
   "name": "python3"
  },
  "language_info": {
   "codemirror_mode": {
    "name": "ipython",
    "version": 3
   },
   "file_extension": ".py",
   "mimetype": "text/x-python",
   "name": "python",
   "nbconvert_exporter": "python",
   "pygments_lexer": "ipython3",
   "version": "3.12.3"
  }
 },
 "nbformat": 4,
 "nbformat_minor": 2
}
